{
 "cells": [
  {
   "cell_type": "code",
   "execution_count": 4,
   "metadata": {},
   "outputs": [
    {
     "name": "stdin",
     "output_type": "stream",
     "text": [
      "Enter a range 2000\n"
     ]
    },
    {
     "name": "stdout",
     "output_type": "stream",
     "text": [
      "Amicable numbers\n",
      "220\n",
      "284\n",
      "1184\n",
      "1210\n"
     ]
    }
   ],
   "source": [
    "r=int(input(\"Enter a range\"))\n",
    "print(\"Amicable numbers\")\n",
    "for i in range(r):\n",
    "    if(i>1):\n",
    "        s=0\n",
    "        su=0\n",
    "        for y in range (i):      #To calculate sum of divisors of a number\n",
    "            if(y>0 and i%y==0):\n",
    "                s +=y\n",
    "            \n",
    "        for t in range(r):\n",
    "            if s==t:         # To check if that sum is equal to any number in the range\n",
    "                for z in range (t):        # If sum if equal to any number in range then find its divisors\n",
    "                    if(z>0 and t%z==0):\n",
    "                        su +=z                    #find the sum of its divisors\n",
    "        if (su==i and i!=s):\n",
    "            print(i)  #if the sum of that number is equal to the original number\n",
    "            \n",
    "\n",
    "            \n",
    "            \n",
    "        \n",
    "        \n",
    "    \n",
    "    "
   ]
  },
  {
   "cell_type": "code",
   "execution_count": null,
   "metadata": {},
   "outputs": [],
   "source": []
  },
  {
   "cell_type": "code",
   "execution_count": null,
   "metadata": {},
   "outputs": [],
   "source": []
  }
 ],
 "metadata": {
  "kernelspec": {
   "display_name": "Python 3",
   "language": "python",
   "name": "python3"
  },
  "language_info": {
   "codemirror_mode": {
    "name": "ipython",
    "version": 3
   },
   "file_extension": ".py",
   "mimetype": "text/x-python",
   "name": "python",
   "nbconvert_exporter": "python",
   "pygments_lexer": "ipython3",
   "version": "3.7.3"
  }
 },
 "nbformat": 4,
 "nbformat_minor": 2
}
