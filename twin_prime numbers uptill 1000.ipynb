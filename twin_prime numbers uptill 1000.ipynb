{
 "cells": [
  {
   "cell_type": "code",
   "execution_count": 1,
   "metadata": {},
   "outputs": [
    {
     "name": "stdout",
     "output_type": "stream",
     "text": [
      "[1, 3, 5, 7, 11, 13, 17, 19, 29, 31, 41, 43, 59, 61, 71, 73, 101, 103, 107, 109, 137, 139, 149, 151, 179, 181, 191, 193, 197, 199, 227, 229, 239, 241, 269, 271, 281, 283, 311, 313, 347, 349, 419, 421, 431, 433, 461, 463, 521, 523, 569, 571, 599, 601, 617, 619, 641, 643, 659, 661, 809, 811, 821, 823, 827, 829, 857, 859, 881, 883]\n"
     ]
    }
   ],
   "source": [
    "lst=[]\n",
    "prime_lst=[]\n",
    "twin_prime=[]\n",
    "for i in range(1001):\n",
    "    if(i%2 !=0):\n",
    "        lst.append(i)\n",
    "for ele in lst:\n",
    "    t=0\n",
    "    for i in range(ele):\n",
    "        if(i>1 and ele%i==0):\n",
    "            t=1\n",
    "            break\n",
    "        else:\n",
    "            t=0\n",
    "    if t==0 :\n",
    "        prime_lst.append(ele)\n",
    "l=len(prime_lst)\n",
    "for i in range(l):\n",
    "        \n",
    "    if(i>0 and (prime_lst[i]-prime_lst[i-1] ==2)):\n",
    "            \n",
    "            twin_prime.append(prime_lst[i])\n",
    "            y=len(twin_prime)\n",
    "            for x in range(y):\n",
    "                z=0\n",
    "                if(prime_lst[i-1]==twin_prime[x]):\n",
    "                    z=1\n",
    "                    break\n",
    "            if(z==0):\n",
    "                twin_prime.append(prime_lst[i-1])\n",
    "\n",
    "s=sorted(twin_prime)\n",
    "print(s)"
   ]
  },
  {
   "cell_type": "code",
   "execution_count": null,
   "metadata": {},
   "outputs": [],
   "source": []
  }
 ],
 "metadata": {
  "kernelspec": {
   "display_name": "Python 3",
   "language": "python",
   "name": "python3"
  },
  "language_info": {
   "codemirror_mode": {
    "name": "ipython",
    "version": 3
   },
   "file_extension": ".py",
   "mimetype": "text/x-python",
   "name": "python",
   "nbconvert_exporter": "python",
   "pygments_lexer": "ipython3",
   "version": "3.7.3"
  }
 },
 "nbformat": 4,
 "nbformat_minor": 2
}
