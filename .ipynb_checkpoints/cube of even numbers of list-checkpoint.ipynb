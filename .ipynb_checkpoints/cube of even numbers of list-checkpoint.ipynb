{
 "cells": [
  {
   "cell_type": "code",
   "execution_count": 1,
   "metadata": {},
   "outputs": [
    {
     "name": "stdout",
     "output_type": "stream",
     "text": [
      "[64, 8, 216, 512, 13824, 1728, 1000]\n"
     ]
    }
   ],
   "source": [
    "lst=[1,3,4,5,667,2,5,6,8,9,24,12,43,67,10]\n",
    "def even(x):\n",
    "    if(x%2 ==0):\n",
    "        return x\n",
    "\n",
    "def cuube(x):\n",
    "            return x**3\n",
    "even_lst=list(filter(even,lst))\n",
    "cube_lst=list(map(cuube,even_lst))\n",
    "print(cube_lst)\n",
    "\n",
    "\n",
    "        \n",
    "            "
   ]
  },
  {
   "cell_type": "code",
   "execution_count": null,
   "metadata": {},
   "outputs": [],
   "source": []
  },
  {
   "cell_type": "code",
   "execution_count": null,
   "metadata": {},
   "outputs": [],
   "source": []
  }
 ],
 "metadata": {
  "kernelspec": {
   "display_name": "Python 3",
   "language": "python",
   "name": "python3"
  },
  "language_info": {
   "codemirror_mode": {
    "name": "ipython",
    "version": 3
   },
   "file_extension": ".py",
   "mimetype": "text/x-python",
   "name": "python",
   "nbconvert_exporter": "python",
   "pygments_lexer": "ipython3",
   "version": "3.7.3"
  }
 },
 "nbformat": 4,
 "nbformat_minor": 2
}
