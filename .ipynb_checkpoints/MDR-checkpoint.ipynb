{
 "cells": [
  {
   "cell_type": "code",
   "execution_count": 6,
   "metadata": {},
   "outputs": [
    {
     "name": "stdout",
     "output_type": "stream",
     "text": [
      "Enter a num341\n",
      "12\n",
      "12\n",
      "True\n",
      "2\n",
      "Mpersistance 1\n",
      "MDR 0\n"
     ]
    }
   ],
   "source": [
    "n=int(input(\"Enter a num\"))\n",
    "Mper=0\n",
    "MDR=0\n",
    "def prod (x):\n",
    "    p=1\n",
    "    while(x!=0):\n",
    "        p *= x%10\n",
    "        x //=10\n",
    "    print(p)\n",
    "    return p\n",
    "def ck(z):\n",
    "    if z>9:\n",
    "        \n",
    "        return True\n",
    "    elif z<=9:\n",
    "        \n",
    "        return False\n",
    "    \n",
    "t=prod(n)\n",
    "print(t)\n",
    "c=ck(t)\n",
    "print(c)\n",
    "if c:\n",
    "    Mper +=1\n",
    "    prod(t)\n",
    "else:\n",
    "    MDR=t\n",
    "\n",
    "    \n",
    "print(\"Mpersistance\",Mper)\n",
    "print(\"MDR\",MDR)\n"
   ]
  },
  {
   "cell_type": "code",
   "execution_count": null,
   "metadata": {},
   "outputs": [],
   "source": []
  }
 ],
 "metadata": {
  "kernelspec": {
   "display_name": "Python 3",
   "language": "python",
   "name": "python3"
  },
  "language_info": {
   "codemirror_mode": {
    "name": "ipython",
    "version": 3
   },
   "file_extension": ".py",
   "mimetype": "text/x-python",
   "name": "python",
   "nbconvert_exporter": "python",
   "pygments_lexer": "ipython3",
   "version": "3.7.3"
  }
 },
 "nbformat": 4,
 "nbformat_minor": 2
}
