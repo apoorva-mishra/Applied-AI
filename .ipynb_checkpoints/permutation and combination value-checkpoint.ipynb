{
 "cells": [
  {
   "cell_type": "code",
   "execution_count": 4,
   "metadata": {},
   "outputs": [
    {
     "name": "stdout",
     "output_type": "stream",
     "text": [
      "Enter the value of n5\n",
      "Enter the value of r2\n",
      "permutation is 20.0\n",
      "combination is 10.0\n"
     ]
    }
   ],
   "source": [
    "n=int(input(\"Enter the value of n\"))\n",
    "r=int(input(\"Enter the value of r\"))\n",
    "nfact=1\n",
    "nrfact=1\n",
    "rfact=1\n",
    "t=n-r\n",
    "while(n!=0):\n",
    "    nfact *= n\n",
    "    \n",
    "    n=n-1\n",
    "\n",
    "while(t!=0):\n",
    "    nrfact *= t\n",
    "    \n",
    "    t=t-1\n",
    "print(\"permutation is {}\".format(nfact/nrfact))\n",
    "while(r!=0):\n",
    "    \n",
    "    rfact *= r\n",
    "    \n",
    "    r=r-1\n",
    "print(\"combination is {}\".format(nfact/(rfact*nrfact)))\n",
    "\n",
    "    "
   ]
  },
  {
   "cell_type": "code",
   "execution_count": null,
   "metadata": {},
   "outputs": [],
   "source": []
  }
 ],
 "metadata": {
  "kernelspec": {
   "display_name": "Python 3",
   "language": "python",
   "name": "python3"
  },
  "language_info": {
   "codemirror_mode": {
    "name": "ipython",
    "version": 3
   },
   "file_extension": ".py",
   "mimetype": "text/x-python",
   "name": "python",
   "nbconvert_exporter": "python",
   "pygments_lexer": "ipython3",
   "version": "3.7.3"
  }
 },
 "nbformat": 4,
 "nbformat_minor": 2
}
