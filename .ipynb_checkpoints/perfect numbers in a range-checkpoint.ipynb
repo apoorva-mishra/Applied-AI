{
 "cells": [
  {
   "cell_type": "code",
   "execution_count": 2,
   "metadata": {},
   "outputs": [
    {
     "name": "stdout",
     "output_type": "stream",
     "text": [
      "Enter a range30\n",
      "6\n",
      "28\n"
     ]
    }
   ],
   "source": [
    "r=int(input(\"Enter a range\"))\n",
    "for i in range(r):\n",
    "    if i>0:\n",
    "        div=[]\n",
    "        for y in range(i):\n",
    "            if(y>0 and i%y==0):\n",
    "                div.append(y)\n",
    "        if(sum(div)==i):\n",
    "            print(i)\n"
   ]
  },
  {
   "cell_type": "code",
   "execution_count": null,
   "metadata": {},
   "outputs": [],
   "source": []
  }
 ],
 "metadata": {
  "kernelspec": {
   "display_name": "Python 3",
   "language": "python",
   "name": "python3"
  },
  "language_info": {
   "codemirror_mode": {
    "name": "ipython",
    "version": 3
   },
   "file_extension": ".py",
   "mimetype": "text/x-python",
   "name": "python",
   "nbconvert_exporter": "python",
   "pygments_lexer": "ipython3",
   "version": "3.7.3"
  }
 },
 "nbformat": 4,
 "nbformat_minor": 2
}
