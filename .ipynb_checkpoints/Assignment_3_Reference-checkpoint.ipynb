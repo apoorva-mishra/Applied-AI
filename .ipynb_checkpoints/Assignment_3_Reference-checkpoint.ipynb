{
 "cells": [
  {
   "cell_type": "code",
   "execution_count": 1,
   "metadata": {},
   "outputs": [],
   "source": [
    "import warnings\n",
    "warnings.filterwarnings(\"ignore\")\n",
    "import pandas as pd\n",
    "from tqdm import tqdm\n",
    "import os"
   ]
  },
  {
   "cell_type": "markdown",
   "metadata": {},
   "source": [
    "# Implementing binary Bag of words"
   ]
  },
  {
   "cell_type": "markdown",
   "metadata": {},
   "source": [
    "<h2> fit method </h2>  "
   ]
  },
  {
   "cell_type": "markdown",
   "metadata": {},
   "source": [
    "With this function, we will find all the unique words in the data and we will assign a dimension_number to each unique word.\n",
    "\n",
    "    \n",
    "we  will create a python dictonary to save all the unique words, such that the key of dictonary represents a unique word and the corresponding value represent it's dimension_number.\n",
    "\n",
    "For example,\n",
    "\n",
    "if you have a review, __'very bad pizza'__ then you can represent each unique word with a dimension_number as,\n",
    "\n",
    "dict = { 'very' : 1,\n",
    "         'pizza' : 3,\n",
    "         'bad' : 2\n",
    "        }     \n",
    "        "
   ]
  },
  {
   "cell_type": "code",
   "execution_count": 2,
   "metadata": {},
   "outputs": [],
   "source": [
    "from tqdm import tqdm # tqdm is a library that helps us to visualize the runtime of for loop. refer this to know more about tqdm\n",
    "#https://tqdm.github.io/\n",
    "\n",
    "# it accepts only list of sentances\n",
    "def fit(dataset):    \n",
    "    unique_words = set() # at first we will initialize an empty set\n",
    "    # check if its list type or not\n",
    "    if isinstance(dataset, (list,)):\n",
    "        for row in dataset: # for each review in the dataset\n",
    "            for word in row.split(\" \"): # for each word in the review. #split method converts a string into list of words\n",
    "                if len(word) < 2:\n",
    "                    continue\n",
    "                unique_words.add(word)\n",
    "        unique_words = sorted(list(unique_words))\n",
    "        vocab = {j:i for i,j in enumerate(unique_words)}\n",
    "        return vocab\n",
    "    else:\n",
    "        print(\"you need to pass list of sentance\")"
   ]
  },
  {
   "cell_type": "code",
   "execution_count": 3,
   "metadata": {},
   "outputs": [
    {
     "name": "stdout",
     "output_type": "stream",
     "text": [
      "{'aaa': 0, 'aaaaaaa': 1, 'abbb': 2, 'abc': 3, 'baaa': 4, 'def': 5, 'lmn': 6, 'pqr': 7, 'prq': 8}\n"
     ]
    }
   ],
   "source": [
    "vocab = fit([\"abc def aaa prq\", \"lmn pqr aaaaaaa aaa abbb baaa\"])\n",
    "print(vocab)"
   ]
  },
  {
   "cell_type": "markdown",
   "metadata": {},
   "source": [
    "##  transform  method"
   ]
  },
  {
   "cell_type": "markdown",
   "metadata": {},
   "source": [
    "With this function, we will write a feature matrix using sprase matrix."
   ]
  },
  {
   "cell_type": "markdown",
   "metadata": {},
   "source": [
    "__What is Sparse Matrix?__\n",
    "\n",
    "Sparse matrix stores only non-zero elements and they occupy less amount of RAM comapre to the dense matrix\n",
    "You can refer this\n",
    "http://btechsmartclass.com/data_structures/sparse-matrix.html\n"
   ]
  },
  {
   "cell_type": "markdown",
   "metadata": {},
   "source": [
    "assume you have a matrix\n",
    "<pre>\n",
    "[[1, 0, 0], \n",
    "[0, 0, 1], \n",
    "[4, 0, 6]] \n",
    "</pre>"
   ]
  },
  {
   "cell_type": "code",
   "execution_count": 4,
   "metadata": {},
   "outputs": [
    {
     "name": "stdout",
     "output_type": "stream",
     "text": [
      "172\n",
      "88\n"
     ]
    }
   ],
   "source": [
    "from sys import getsizeof\n",
    "import numpy as np\n",
    "# we store every element here\n",
    "a = np.array([[1, 0, 0, 0, 0], [0, 0, 0, 1, 0], [0, 0, 4, 0, 0]])\n",
    "print(getsizeof(a))\n",
    "\n",
    "# here we are storing only non zero elements here (row, col, value)\n",
    "a = [ (0, 0, 1), (1, 3, 1), (2,2,4)]\n",
    "# with this way of storing we are saving alomost 50% memory for this example\n",
    "print(getsizeof(a))"
   ]
  },
  {
   "cell_type": "markdown",
   "metadata": {},
   "source": [
    "__How to write a Sparse Matrix?__\n",
    "\n",
    "You can use csr_matrix() method of scipy.sparse to write a sprase matrix. You need to pass indices of nonzero elements into csr_matrix() for creating a sparse matrix. You also need to pass element value of each pair of indices. You can use lists to save the indices of nonzero elements and there corresponding element values.\n",
    "\n",
    "\n",
    "__For example__, we have a sprase matrix as,\n",
    "\n",
    "[[1, 0, 0], <br>\n",
    " [0, 0, 1], <br>\n",
    " [4, 0, 6]] <br>\n",
    "\n",
    "then you can save the indices using a list as,\n",
    "\n",
    "listt_of_indices =  [(0,0),(1,2),(2,0),(2,2)]\n",
    "\n",
    "and corresponding element values as,\n",
    "\n",
    "element_values =[1,1,4,6]\n",
    "\n",
    "Refer to the documenataion here\n",
    "https://docs.scipy.org/doc/scipy-0.19.0/reference/generated/scipy.sparse.csr_matrix.html\n"
   ]
  },
  {
   "cell_type": "code",
   "execution_count": 5,
   "metadata": {},
   "outputs": [
    {
     "name": "stdout",
     "output_type": "stream",
     "text": [
      "abc 2\n",
      "def 2\n",
      "zzz 2\n",
      "pqr 1\n"
     ]
    }
   ],
   "source": [
    "from collections import Counter\n",
    "from scipy.sparse import csr_matrix\n",
    "test = 'abc def abc def zzz zzz pqr'\n",
    "a = dict(Counter(test.split()))\n",
    "for i,j in a.items():\n",
    "    print(i, j)"
   ]
  },
  {
   "cell_type": "code",
   "execution_count": 6,
   "metadata": {},
   "outputs": [],
   "source": [
    "# https://stackoverflow.com/questions/9919604/efficiently-calculate-word-frequency-in-a-string\n",
    "# https://docs.scipy.org/doc/scipy-0.19.0/reference/generated/scipy.sparse.csr_matrix.html\n",
    "# note that we are we need to send the preprocessing text here, we have not inlcuded the processing\n",
    "def transform(dataset,vocab):\n",
    "    rows = []\n",
    "    columns = []\n",
    "    values = []\n",
    "    if isinstance(dataset, (list,)):\n",
    "        for idx, row in enumerate(tqdm(dataset)): # for each document in the dataset\n",
    "            # it will return a dict type object where key is the word and values is its frequency, {word:frequency}\n",
    "            word_freq = dict(Counter(row.split()))\n",
    "            # for every unique word in the document\n",
    "            for word, freq in word_freq.items():  # for each unique word in the review.                \n",
    "                if len(word) < 2:\n",
    "                    continue\n",
    "                # we will check if its there in the vocabulary that we build in fit() function\n",
    "                # dict.get() function will return the values, if the key doesn't exits it will return -1\n",
    "                col_index = vocab.get(word, -1) # retreving the dimension number of a word\n",
    "                # if the word exists\n",
    "                if col_index !=-1:\n",
    "                    # we are storing the index of the document\n",
    "                    rows.append(idx)\n",
    "                    # we are storing the dimensions of the word\n",
    "                    columns.append(col_index)\n",
    "                    # we are storing the frequency of the word\n",
    "                    values.append(freq)\n",
    "        return csr_matrix((values, (rows,columns)), shape=(len(dataset),len(vocab)))\n",
    "    else:\n",
    "        print(\"you need to pass list of strings\")"
   ]
  },
  {
   "cell_type": "code",
   "execution_count": 7,
   "metadata": {},
   "outputs": [
    {
     "name": "stdout",
     "output_type": "stream",
     "text": [
      "['but', 'centerpiece', 'economic', 'economists', 'for', 'is', 'its', 'lagrange', 'method', 'multipliers', 'of', 'optimization', 'poorly', 'problems', 'solving', 'taught', 'technique', 'the', 'theory', 'unfortunately', 'usually', 'workhorse']\n"
     ]
    },
    {
     "name": "stderr",
     "output_type": "stream",
     "text": [
      "100%|████████████████████████████████████████████████████████████████████████████████████████████| 2/2 [00:00<?, ?it/s]\n"
     ]
    },
    {
     "name": "stdout",
     "output_type": "stream",
     "text": [
      "[[0 0 0 1 1 1 0 1 1 1 1 1 0 1 1 0 0 2 0 0 0 1]\n",
      " [1 1 1 0 0 1 1 0 0 0 1 0 1 0 0 1 1 1 1 1 1 0]]\n"
     ]
    }
   ],
   "source": [
    "strings = [\"the method of lagrange multipliers is the economists workhorse for solving optimization problems\",\n",
    "           \"the technique is a centerpiece of economic theory but unfortunately its usually taught poorly\"]\n",
    "vocab = fit(strings)\n",
    "print(list(vocab.keys()))\n",
    "print(transform(strings, vocab).toarray())"
   ]
  },
  {
   "cell_type": "markdown",
   "metadata": {},
   "source": [
    "## Comparing results with countvectorizer"
   ]
  },
  {
   "cell_type": "code",
   "execution_count": 8,
   "metadata": {},
   "outputs": [
    {
     "name": "stdout",
     "output_type": "stream",
     "text": [
      "[[0 0 0 1 1 1 0 1 1 1 1 1 0 1 1 0 0 2 0 0 0 1]\n",
      " [1 1 1 0 0 1 1 0 0 0 1 0 1 0 0 1 1 1 1 1 1 0]]\n"
     ]
    }
   ],
   "source": [
    "from sklearn.feature_extraction.text import CountVectorizer\n",
    "\n",
    "vec = CountVectorizer(analyzer='word')\n",
    "\n",
    "vec.fit(strings)\n",
    "feature_matrix_2 = vec.transform(strings)\n",
    "print(feature_matrix_2.toarray())"
   ]
  }
 ],
 "metadata": {
  "colab": {
   "collapsed_sections": [
    "9amw6tMZCAaL",
    "1dhfJZ7ZCAaR",
    "F--Xk5fhCAaV",
    "XnzP-eZdCAaa",
    "EPjGCg7UCAag",
    "oPxfYXhMCAag",
    "sKAEsZZLCAam",
    "ejF91OEjCAaw",
    "b_-boR2SCAay",
    "zln2L0SUCAa0",
    "RBaVF4aHCAa4"
   ],
   "name": "02 Amazon Fine Food Reviews Analysis_TSNE.ipynb",
   "provenance": [],
   "version": "0.3.2"
  },
  "kernelspec": {
   "display_name": "Python 3",
   "language": "python",
   "name": "python3"
  },
  "language_info": {
   "codemirror_mode": {
    "name": "ipython",
    "version": 3
   },
   "file_extension": ".py",
   "mimetype": "text/x-python",
   "name": "python",
   "nbconvert_exporter": "python",
   "pygments_lexer": "ipython3",
   "version": "3.6.8"
  }
 },
 "nbformat": 4,
 "nbformat_minor": 1
}
