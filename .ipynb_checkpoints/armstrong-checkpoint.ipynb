{
 "cells": [
  {
   "cell_type": "code",
   "execution_count": 2,
   "metadata": {},
   "outputs": [
    {
     "name": "stdout",
     "output_type": "stream",
     "text": [
      "Enter a number371\n",
      "YES ARMSTRONG\n"
     ]
    }
   ],
   "source": [
    "def printArmstrong(a,b):\n",
    "    x=isArmstrong(a,b)\n",
    "    if x:\n",
    "        print(\"YES ARMSTRONG\")\n",
    "    else :\n",
    "        print(\"Not armstrong\")\n",
    "def isArmstrong(a,b):\n",
    "    if (a==b):\n",
    "    \n",
    "        return True\n",
    "    else:\n",
    "        return False\n",
    "    \n",
    "n=int(input(\"Enter a number\"))\n",
    "cubes=[]\n",
    "p=n\n",
    "while(p!=0):\n",
    "    cubes.append((p%10)**3)\n",
    "    p//=10\n",
    "sumc=sum(cubes)\n",
    "\n",
    "printArmstrong(n,sumc)\n",
    "\n",
    "\n"
   ]
  },
  {
   "cell_type": "code",
   "execution_count": null,
   "metadata": {},
   "outputs": [],
   "source": []
  },
  {
   "cell_type": "code",
   "execution_count": null,
   "metadata": {},
   "outputs": [],
   "source": []
  }
 ],
 "metadata": {
  "kernelspec": {
   "display_name": "Python 3",
   "language": "python",
   "name": "python3"
  },
  "language_info": {
   "codemirror_mode": {
    "name": "ipython",
    "version": 3
   },
   "file_extension": ".py",
   "mimetype": "text/x-python",
   "name": "python",
   "nbconvert_exporter": "python",
   "pygments_lexer": "ipython3",
   "version": "3.7.3"
  }
 },
 "nbformat": 4,
 "nbformat_minor": 2
}
