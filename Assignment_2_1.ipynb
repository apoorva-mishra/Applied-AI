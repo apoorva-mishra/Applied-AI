{
 "cells": [
  {
   "cell_type": "markdown",
   "metadata": {},
   "source": [
    "### Question 1"
   ]
  },
  {
   "cell_type": "code",
   "execution_count": 19,
   "metadata": {},
   "outputs": [
    {
     "name": "stdout",
     "output_type": "stream",
     "text": [
      "[[1, 3, 4], [2, 5, 7], [5, 9, 6]]\n",
      "[[1, 0, 0], [0, 1, 0], [0, 0, 1]]\n"
     ]
    }
   ],
   "source": [
    "a=[[1,3,4],[2,5,7],[5,9,6]]\n",
    "b=[[1,0,0],[0,1,0],[0,0,1]]\n",
    "print(a)\n",
    "print(b)"
   ]
  },
  {
   "cell_type": "code",
   "execution_count": 20,
   "metadata": {},
   "outputs": [
    {
     "name": "stdout",
     "output_type": "stream",
     "text": [
      "[[1, 0, 0], [0, 1, 0], [0, 0, 1]]\n"
     ]
    }
   ],
   "source": [
    "transpose=[[0,0,0],[0,0,0],[0,0,0]]\n",
    "n=len(b)\n",
    "for i in range(n): #calculating the transpose of b matrix\n",
    "    for j in range(n):\n",
    "        transpose[j][i]=b[i][j]\n",
    "print(transpose)"
   ]
  },
  {
   "cell_type": "code",
   "execution_count": 21,
   "metadata": {},
   "outputs": [
    {
     "name": "stdout",
     "output_type": "stream",
     "text": [
      "[[1, 3, 4], [2, 5, 7], [5, 9, 6]]\n"
     ]
    }
   ],
   "source": [
    "mul=[[0,0,0],[0,0,0],[0,0,0]]\n",
    "for i in range(n):\n",
    "   \n",
    "   for j in range(n):\n",
    "    \n",
    "       for k in range(n):\n",
    "           mul[i][j] += a[i][k] * b[k][j]    #reffered from https://www.programiz.com/python-programming/examples/multiply-matrix\n",
    "\n",
    "        \n",
    "print(mul)"
   ]
  },
  {
   "cell_type": "code",
   "execution_count": null,
   "metadata": {},
   "outputs": [],
   "source": []
  }
 ],
 "metadata": {
  "kernelspec": {
   "display_name": "Python 3",
   "language": "python",
   "name": "python3"
  },
  "language_info": {
   "codemirror_mode": {
    "name": "ipython",
    "version": 3
   },
   "file_extension": ".py",
   "mimetype": "text/x-python",
   "name": "python",
   "nbconvert_exporter": "python",
   "pygments_lexer": "ipython3",
   "version": "3.7.3"
  }
 },
 "nbformat": 4,
 "nbformat_minor": 2
}
